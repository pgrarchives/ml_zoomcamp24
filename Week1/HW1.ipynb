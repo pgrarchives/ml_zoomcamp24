{
 "cells": [
  {
   "cell_type": "code",
   "execution_count": 1,
   "id": "a68b5fbf-1e04-4b6a-b8d1-7964278cceb0",
   "metadata": {},
   "outputs": [],
   "source": [
    "import pandas as pd\n",
    "import numpy as np\n",
    "import seaborn as sns\n",
    "from matplotlib import pyplot as plt"
   ]
  },
  {
   "cell_type": "markdown",
   "id": "7f3b22e9-486b-4d8c-8d27-d31684d4636f",
   "metadata": {},
   "source": [
    "## Q1. Pandas version.\n",
    "#### What's the version of Pandas that you installed?\n",
    "\n",
    "#### You can get the version information using the __version__ field:"
   ]
  },
  {
   "cell_type": "code",
   "execution_count": 4,
   "id": "32623ccd-bedd-4244-bafe-955fcf38adfd",
   "metadata": {},
   "outputs": [
    {
     "data": {
      "text/plain": [
       "'2.2.2'"
      ]
     },
     "execution_count": 4,
     "metadata": {},
     "output_type": "execute_result"
    }
   ],
   "source": [
    "pd.__version__"
   ]
  },
  {
   "cell_type": "markdown",
   "id": "9627b093-0b6e-4b3d-bf48-bab3248b4078",
   "metadata": {},
   "source": [
    "## Q2. Records count\n",
    "#### How many records are in the dataset?"
   ]
  },
  {
   "cell_type": "code",
   "execution_count": 64,
   "id": "e1293299-d632-445b-981d-929677c43c9e",
   "metadata": {},
   "outputs": [],
   "source": [
    "laptops_df = pd.read_csv(\"data/laptops.csv\")"
   ]
  },
  {
   "cell_type": "code",
   "execution_count": 9,
   "id": "730cbb43-1521-42f0-aaad-b1358d7facd9",
   "metadata": {},
   "outputs": [
    {
     "data": {
      "text/plain": [
       "(2160, 12)"
      ]
     },
     "execution_count": 9,
     "metadata": {},
     "output_type": "execute_result"
    }
   ],
   "source": [
    "laptops_df.shape"
   ]
  },
  {
   "cell_type": "markdown",
   "id": "ba1d9a11-c996-4ddd-a467-a20301df8eb9",
   "metadata": {},
   "source": [
    "## Q3. Laptop brands\n",
    "#### How many laptop brands are presented in the dataset?"
   ]
  },
  {
   "cell_type": "code",
   "execution_count": 12,
   "id": "2acb0fb5-9485-44a5-a48c-88540f447f16",
   "metadata": {},
   "outputs": [
    {
     "data": {
      "text/plain": [
       "27"
      ]
     },
     "execution_count": 12,
     "metadata": {},
     "output_type": "execute_result"
    }
   ],
   "source": [
    "laptops_df[\"Brand\"].nunique()"
   ]
  },
  {
   "cell_type": "markdown",
   "id": "fded86bf-9f8e-4262-a035-27f2ae317a15",
   "metadata": {},
   "source": [
    "## Q4. Missing values\n",
    "#### How many columns in the dataset have missing values?"
   ]
  },
  {
   "cell_type": "code",
   "execution_count": 15,
   "id": "a52f1fab-6817-4b86-a225-cb23116accee",
   "metadata": {},
   "outputs": [
    {
     "data": {
      "text/plain": [
       "3"
      ]
     },
     "execution_count": 15,
     "metadata": {},
     "output_type": "execute_result"
    }
   ],
   "source": [
    "missing_df = laptops_df.isna().sum() > 0\n",
    "missing_df.sum()"
   ]
  },
  {
   "cell_type": "markdown",
   "id": "1316c117-7a43-4dac-a72e-d02d274492d6",
   "metadata": {},
   "source": [
    "## Q5. Maximum final price\n",
    "#### What's the maximum final price of Dell notebooks in the dataset?"
   ]
  },
  {
   "cell_type": "code",
   "execution_count": 62,
   "id": "9d88375b-e369-4264-a63a-88e5396958f7",
   "metadata": {},
   "outputs": [
    {
     "data": {
      "text/html": [
       "<div>\n",
       "<style scoped>\n",
       "    .dataframe tbody tr th:only-of-type {\n",
       "        vertical-align: middle;\n",
       "    }\n",
       "\n",
       "    .dataframe tbody tr th {\n",
       "        vertical-align: top;\n",
       "    }\n",
       "\n",
       "    .dataframe thead th {\n",
       "        text-align: right;\n",
       "    }\n",
       "</style>\n",
       "<table border=\"1\" class=\"dataframe\">\n",
       "  <thead>\n",
       "    <tr style=\"text-align: right;\">\n",
       "      <th></th>\n",
       "      <th>Laptop</th>\n",
       "      <th>Status</th>\n",
       "      <th>Brand</th>\n",
       "      <th>Model</th>\n",
       "      <th>CPU</th>\n",
       "      <th>RAM</th>\n",
       "      <th>Storage</th>\n",
       "      <th>Storage type</th>\n",
       "      <th>GPU</th>\n",
       "      <th>Screen</th>\n",
       "      <th>Touch</th>\n",
       "      <th>Final Price</th>\n",
       "    </tr>\n",
       "  </thead>\n",
       "  <tbody>\n",
       "    <tr>\n",
       "      <th>0</th>\n",
       "      <td>ASUS ExpertBook B1 B1502CBA-EJ0436X Intel Core...</td>\n",
       "      <td>New</td>\n",
       "      <td>Innjoo</td>\n",
       "      <td>ExpertBook</td>\n",
       "      <td>Intel Core i5</td>\n",
       "      <td>8</td>\n",
       "      <td>512</td>\n",
       "      <td>SSD</td>\n",
       "      <td>NaN</td>\n",
       "      <td>15.6</td>\n",
       "      <td>No</td>\n",
       "      <td>1009.00</td>\n",
       "    </tr>\n",
       "    <tr>\n",
       "      <th>1</th>\n",
       "      <td>Alurin Go Start Intel Celeron N4020/8GB/256GB ...</td>\n",
       "      <td>New</td>\n",
       "      <td>Innjoo</td>\n",
       "      <td>Go</td>\n",
       "      <td>Intel Celeron</td>\n",
       "      <td>8</td>\n",
       "      <td>256</td>\n",
       "      <td>SSD</td>\n",
       "      <td>NaN</td>\n",
       "      <td>15.6</td>\n",
       "      <td>No</td>\n",
       "      <td>299.00</td>\n",
       "    </tr>\n",
       "    <tr>\n",
       "      <th>2</th>\n",
       "      <td>ASUS ExpertBook B1 B1502CBA-EJ0424X Intel Core...</td>\n",
       "      <td>New</td>\n",
       "      <td>Innjoo</td>\n",
       "      <td>ExpertBook</td>\n",
       "      <td>Intel Core i3</td>\n",
       "      <td>8</td>\n",
       "      <td>256</td>\n",
       "      <td>SSD</td>\n",
       "      <td>NaN</td>\n",
       "      <td>15.6</td>\n",
       "      <td>No</td>\n",
       "      <td>789.00</td>\n",
       "    </tr>\n",
       "    <tr>\n",
       "      <th>3</th>\n",
       "      <td>MSI Katana GF66 12UC-082XES Intel Core i7-1270...</td>\n",
       "      <td>New</td>\n",
       "      <td>Innjoo</td>\n",
       "      <td>Katana</td>\n",
       "      <td>Intel Core i7</td>\n",
       "      <td>16</td>\n",
       "      <td>1000</td>\n",
       "      <td>SSD</td>\n",
       "      <td>RTX 3050</td>\n",
       "      <td>15.6</td>\n",
       "      <td>No</td>\n",
       "      <td>1199.00</td>\n",
       "    </tr>\n",
       "    <tr>\n",
       "      <th>4</th>\n",
       "      <td>HP 15S-FQ5085NS Intel Core i5-1235U/16GB/512GB...</td>\n",
       "      <td>New</td>\n",
       "      <td>Innjoo</td>\n",
       "      <td>15S</td>\n",
       "      <td>Intel Core i5</td>\n",
       "      <td>16</td>\n",
       "      <td>512</td>\n",
       "      <td>SSD</td>\n",
       "      <td>NaN</td>\n",
       "      <td>15.6</td>\n",
       "      <td>No</td>\n",
       "      <td>669.01</td>\n",
       "    </tr>\n",
       "  </tbody>\n",
       "</table>\n",
       "</div>"
      ],
      "text/plain": [
       "                                              Laptop Status   Brand  \\\n",
       "0  ASUS ExpertBook B1 B1502CBA-EJ0436X Intel Core...    New  Innjoo   \n",
       "1  Alurin Go Start Intel Celeron N4020/8GB/256GB ...    New  Innjoo   \n",
       "2  ASUS ExpertBook B1 B1502CBA-EJ0424X Intel Core...    New  Innjoo   \n",
       "3  MSI Katana GF66 12UC-082XES Intel Core i7-1270...    New  Innjoo   \n",
       "4  HP 15S-FQ5085NS Intel Core i5-1235U/16GB/512GB...    New  Innjoo   \n",
       "\n",
       "        Model            CPU  RAM  Storage Storage type       GPU  Screen  \\\n",
       "0  ExpertBook  Intel Core i5    8      512          SSD       NaN    15.6   \n",
       "1          Go  Intel Celeron    8      256          SSD       NaN    15.6   \n",
       "2  ExpertBook  Intel Core i3    8      256          SSD       NaN    15.6   \n",
       "3      Katana  Intel Core i7   16     1000          SSD  RTX 3050    15.6   \n",
       "4         15S  Intel Core i5   16      512          SSD       NaN    15.6   \n",
       "\n",
       "  Touch  Final Price  \n",
       "0    No      1009.00  \n",
       "1    No       299.00  \n",
       "2    No       789.00  \n",
       "3    No      1199.00  \n",
       "4    No       669.01  "
      ]
     },
     "execution_count": 62,
     "metadata": {},
     "output_type": "execute_result"
    }
   ],
   "source": [
    "laptops_df.head()"
   ]
  },
  {
   "cell_type": "code",
   "execution_count": 20,
   "id": "fee6219b-8821-4fa0-99d4-3b8b9dfaf027",
   "metadata": {},
   "outputs": [
    {
     "name": "stdout",
     "output_type": "stream",
     "text": [
      "3936.0\n"
     ]
    }
   ],
   "source": [
    "dell_df = laptops_df[laptops_df[\"Brand\"] == \"Dell\"]\n",
    "max_final_price = dell_df['Final Price'].max()\n",
    "print(max_final_price)"
   ]
  },
  {
   "cell_type": "markdown",
   "id": "83aa9073-e160-4860-ad67-044bfa841714",
   "metadata": {},
   "source": [
    "## Q6. Median value of Screen\n",
    "#### Find the median value of Screen column in the dataset.\n",
    "#### Next, calculate the most frequent value of the same Screen column.\n",
    "#### Use fillna method to fill the missing values in Screen column with the most frequent value from the previous step.\n",
    "#### Now, calculate the median value of Screen once again."
   ]
  },
  {
   "cell_type": "code",
   "execution_count": 23,
   "id": "84366936-ecda-4e1b-b81c-3e9392665ea8",
   "metadata": {},
   "outputs": [
    {
     "data": {
      "text/plain": [
       "15.6"
      ]
     },
     "execution_count": 23,
     "metadata": {},
     "output_type": "execute_result"
    }
   ],
   "source": [
    "laptops_df['Screen'].median()"
   ]
  },
  {
   "cell_type": "code",
   "execution_count": 45,
   "id": "8033c245-f5b3-499c-b5c3-421556cd4c4a",
   "metadata": {},
   "outputs": [
    {
     "data": {
      "text/plain": [
       "15.6"
      ]
     },
     "execution_count": 45,
     "metadata": {},
     "output_type": "execute_result"
    }
   ],
   "source": [
    "mode = laptops_df['Screen'].mode()[0]"
   ]
  },
  {
   "cell_type": "code",
   "execution_count": 47,
   "id": "12afb747-6e9f-4371-9ae0-865891bd3e96",
   "metadata": {},
   "outputs": [],
   "source": [
    "filled_df=laptops_df['Screen'].fillna(mode)"
   ]
  },
  {
   "cell_type": "code",
   "execution_count": 49,
   "id": "6bda1201-e96b-44fb-923f-028bb47d0153",
   "metadata": {},
   "outputs": [
    {
     "data": {
      "text/plain": [
       "15.6"
      ]
     },
     "execution_count": 49,
     "metadata": {},
     "output_type": "execute_result"
    }
   ],
   "source": [
    "filled_df.median()"
   ]
  },
  {
   "cell_type": "markdown",
   "id": "c771cb32-a380-4543-a42d-639621ba1750",
   "metadata": {},
   "source": [
    "## Q7. Sum of weights\n",
    "#### Select all the \"Innjoo\" laptops from the dataset.\n",
    "#### Select only columns RAM, Storage, Screen.\n",
    "#### Get the underlying NumPy array. Let's call it X.\n",
    "#### Compute matrix-matrix multiplication between the transpose of X and X. To get the transpose, use X.T. Let's call the result XTX.\n",
    "#### Compute the inverse of XTX.\n",
    "#### Create an array y with values [1100, 1300, 800, 900, 1000, 1100].\n",
    "#### Multiply the inverse of XTX with the transpose of X, and then multiply the result by y. Call the result w.\n",
    "#### What's the sum of all the elements of the result?"
   ]
  },
  {
   "cell_type": "code",
   "execution_count": 123,
   "id": "303ca078-7c75-4e3f-9e33-450db9eaaf9e",
   "metadata": {},
   "outputs": [],
   "source": [
    "innjoo_df = laptops_df[laptops_df[\"Brand\"]=='Innjoo']"
   ]
  },
  {
   "cell_type": "code",
   "execution_count": 129,
   "id": "9606b4c9-0e53-4563-b596-b59052b79a82",
   "metadata": {},
   "outputs": [],
   "source": [
    "X = innjoo_df[['RAM', 'Storage', 'Screen']]"
   ]
  },
  {
   "cell_type": "code",
   "execution_count": 131,
   "id": "2a91385c-1998-4854-b62a-d3cb7d9aa4a3",
   "metadata": {},
   "outputs": [
    {
     "data": {
      "text/plain": [
       "array([[  8. , 256. ,  15.6],\n",
       "       [  8. , 512. ,  15.6],\n",
       "       [  4. ,  64. ,  14.1],\n",
       "       [  6. ,  64. ,  14.1],\n",
       "       [  6. , 128. ,  14.1],\n",
       "       [  6. , 128. ,  14.1]])"
      ]
     },
     "execution_count": 131,
     "metadata": {},
     "output_type": "execute_result"
    }
   ],
   "source": [
    "X.to_numpy()"
   ]
  },
  {
   "cell_type": "code",
   "execution_count": 133,
   "id": "42561fd7-c58e-491c-b96a-4e57c680e5c4",
   "metadata": {},
   "outputs": [],
   "source": [
    "X_transpose = X.T"
   ]
  },
  {
   "cell_type": "code",
   "execution_count": 135,
   "id": "68efb9b6-1c0a-434b-9c84-746dec4443a1",
   "metadata": {},
   "outputs": [],
   "source": [
    "XTX=np.dot(X_transpose,X)"
   ]
  },
  {
   "cell_type": "code",
   "execution_count": 137,
   "id": "95da6955-0a88-4081-8589-55f4913402e3",
   "metadata": {},
   "outputs": [],
   "source": [
    "XTX_inv = np.linalg.inv(XTX)"
   ]
  },
  {
   "cell_type": "code",
   "execution_count": 139,
   "id": "a6a88199-673d-41b6-94fa-e3969de65658",
   "metadata": {},
   "outputs": [],
   "source": [
    "y = np.array([1100, 1300, 800, 900, 1000, 1100])"
   ]
  },
  {
   "cell_type": "code",
   "execution_count": 141,
   "id": "29d0b622-e564-4741-8c4c-ec0a24782477",
   "metadata": {},
   "outputs": [],
   "source": [
    "result=np.dot(XTX_inv,X_transpose)"
   ]
  },
  {
   "cell_type": "code",
   "execution_count": 143,
   "id": "99589245-269e-4bf1-a267-20fb2920cf6b",
   "metadata": {},
   "outputs": [],
   "source": [
    "w=np.dot(result,y)"
   ]
  },
  {
   "cell_type": "code",
   "execution_count": 145,
   "id": "a456935b-3ccf-469b-a122-dbf0ffd1b3d3",
   "metadata": {},
   "outputs": [
    {
     "data": {
      "text/plain": [
       "91.29988062995588"
      ]
     },
     "execution_count": 145,
     "metadata": {},
     "output_type": "execute_result"
    }
   ],
   "source": [
    "w.sum()"
   ]
  },
  {
   "cell_type": "code",
   "execution_count": null,
   "id": "8bdc9e77-7135-4856-a967-54f8118193ec",
   "metadata": {},
   "outputs": [],
   "source": []
  }
 ],
 "metadata": {
  "kernelspec": {
   "display_name": "Python 3 (ipykernel)",
   "language": "python",
   "name": "python3"
  },
  "language_info": {
   "codemirror_mode": {
    "name": "ipython",
    "version": 3
   },
   "file_extension": ".py",
   "mimetype": "text/x-python",
   "name": "python",
   "nbconvert_exporter": "python",
   "pygments_lexer": "ipython3",
   "version": "3.12.4"
  }
 },
 "nbformat": 4,
 "nbformat_minor": 5
}
